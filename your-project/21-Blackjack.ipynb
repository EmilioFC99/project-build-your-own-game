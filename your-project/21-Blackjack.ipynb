{
 "cells": [
  {
   "cell_type": "markdown",
   "metadata": {},
   "source": [
    "DECK"
   ]
  },
  {
   "cell_type": "code",
   "execution_count": 26,
   "metadata": {},
   "outputs": [],
   "source": [
    "import random"
   ]
  },
  {
   "cell_type": "code",
   "execution_count": 27,
   "metadata": {},
   "outputs": [],
   "source": [
    "spade = \"♠\"\n",
    "heart = \"♥\"\n",
    "diamond = \"♦\"\n",
    "club = \"♣\"\n",
    "\n",
    "spade= { \"A♠\":11, \"2♠\":2, \"3♠\":3, \"4♠\":4, \"5♠\":5, \"6♠\":6, \"7♠\":7, \"8♠\":8, \"9♠\":9, \"10♠\":10, \"J♠\":10, \"Q♠\":10, \"K♠\":10}\n",
    "heart= { \"A♥\":11, \"2♥\":2, \"3♥\":3, \"4♥\":4, \"5♥\":5, \"6♥\":6, \"7♥\":7, \"8♥\":8, \"9♥\":9, \"10♥\":10, \"J♥\":10, \"Q♥\":10, \"K♥\":10}\n",
    "diamond= {\"A♦\":11, \"2♦\":2, \"3♦\":3, \"4♦\":4, \"5♦\":5, \"6♦\":6, \"7♦\":7, \"8♦\":8, \"9♦\":9, \"10♦\":10, \"J♦\":10, \"Q♦\":10, \"K♦\":10}\n",
    "club= { \"A♣\":11, \"2♣\":2, \"3♣\":3, \"4♣\":4, \"5♣\":5, \"6♣\":6, \"7♣\":7, \"8♣\":8, \"9♣\":9, \"10♣\":10, \"J♣\":10, \"Q♣\":10, \"K♣\":10}"
   ]
  },
  {
   "cell_type": "code",
   "execution_count": 28,
   "metadata": {},
   "outputs": [],
   "source": [
    "player_hand = dict()\n",
    "dealer_hand = dict()"
   ]
  },
  {
   "cell_type": "markdown",
   "metadata": {},
   "source": [
    "REPARTIR CARTAS"
   ]
  },
  {
   "cell_type": "code",
   "execution_count": 29,
   "metadata": {},
   "outputs": [],
   "source": [
    "deck = {}\n",
    "deck = {k: v for d in (spade, heart, diamond, club) for k, v in d.items()}"
   ]
  },
  {
   "cell_type": "code",
   "execution_count": 30,
   "metadata": {},
   "outputs": [],
   "source": [
    "def give_card(n=1):\n",
    "    hand = dict() \n",
    "    items = random.sample(deck.items(),k = n) #agarramos n cartas del deck\n",
    "    \n",
    "    for item in items:\n",
    "        deck.pop(item[0]) #eliminamos el item del deck\n",
    "        hand[item[0]] = item[1] #y lo agregamos a la mano\n",
    "        \n",
    "    return hand"
   ]
  },
  {
   "cell_type": "code",
   "execution_count": 47,
   "metadata": {},
   "outputs": [
    {
     "name": "stdout",
     "output_type": "stream",
     "text": [
      "{'2♦': 2, '9♦': 9}\n"
     ]
    },
    {
     "ename": "TypeError",
     "evalue": "'list' object is not callable",
     "output_type": "error",
     "traceback": [
      "\u001b[1;31m---------------------------------------------------------------------------\u001b[0m",
      "\u001b[1;31mTypeError\u001b[0m                                 Traceback (most recent call last)",
      "\u001b[1;32m<ipython-input-47-ed1011340fe7>\u001b[0m in \u001b[0;36m<module>\u001b[1;34m\u001b[0m\n\u001b[0;32m      7\u001b[0m     \u001b[1;32mreturn\u001b[0m \u001b[0mprint\u001b[0m\u001b[1;33m(\u001b[0m\u001b[1;34mf'Cards are {s_hand} and the value is {s_result}'\u001b[0m\u001b[1;33m)\u001b[0m\u001b[1;33m\u001b[0m\u001b[1;33m\u001b[0m\u001b[0m\n\u001b[0;32m      8\u001b[0m \u001b[1;33m\u001b[0m\u001b[0m\n\u001b[1;32m----> 9\u001b[1;33m \u001b[0mshow_hand\u001b[0m\u001b[1;33m(\u001b[0m\u001b[0mplayer_hand\u001b[0m\u001b[1;33m)\u001b[0m\u001b[1;33m\u001b[0m\u001b[1;33m\u001b[0m\u001b[0m\n\u001b[0m",
      "\u001b[1;32m<ipython-input-47-ed1011340fe7>\u001b[0m in \u001b[0;36mshow_hand\u001b[1;34m(x)\u001b[0m\n\u001b[0;32m      3\u001b[0m \u001b[1;32mdef\u001b[0m \u001b[0mshow_hand\u001b[0m\u001b[1;33m(\u001b[0m\u001b[0mx\u001b[0m\u001b[1;33m)\u001b[0m\u001b[1;33m:\u001b[0m\u001b[1;33m\u001b[0m\u001b[1;33m\u001b[0m\u001b[0m\n\u001b[0;32m      4\u001b[0m     \u001b[0mprint\u001b[0m\u001b[1;33m(\u001b[0m\u001b[0mx\u001b[0m\u001b[1;33m)\u001b[0m\u001b[1;33m\u001b[0m\u001b[1;33m\u001b[0m\u001b[0m\n\u001b[1;32m----> 5\u001b[1;33m     \u001b[0ms_hand\u001b[0m \u001b[1;33m=\u001b[0m \u001b[0mlist\u001b[0m\u001b[1;33m(\u001b[0m\u001b[0mx\u001b[0m\u001b[1;33m.\u001b[0m\u001b[0mkeys\u001b[0m\u001b[1;33m(\u001b[0m\u001b[1;33m)\u001b[0m\u001b[1;33m)\u001b[0m\u001b[1;33m\u001b[0m\u001b[1;33m\u001b[0m\u001b[0m\n\u001b[0m\u001b[0;32m      6\u001b[0m     \u001b[0ms_result\u001b[0m\u001b[1;33m=\u001b[0m\u001b[0msum\u001b[0m\u001b[1;33m(\u001b[0m\u001b[0mx\u001b[0m\u001b[1;33m.\u001b[0m\u001b[0mvalues\u001b[0m\u001b[1;33m(\u001b[0m\u001b[1;33m)\u001b[0m\u001b[1;33m)\u001b[0m\u001b[1;33m\u001b[0m\u001b[1;33m\u001b[0m\u001b[0m\n\u001b[0;32m      7\u001b[0m     \u001b[1;32mreturn\u001b[0m \u001b[0mprint\u001b[0m\u001b[1;33m(\u001b[0m\u001b[1;34mf'Cards are {s_hand} and the value is {s_result}'\u001b[0m\u001b[1;33m)\u001b[0m\u001b[1;33m\u001b[0m\u001b[1;33m\u001b[0m\u001b[0m\n",
      "\u001b[1;31mTypeError\u001b[0m: 'list' object is not callable"
     ]
    }
   ],
   "source": [
    "player_hand = give_card(2)\n",
    "\n",
    "def show_hand(x):\n",
    "    print(x)\n",
    "    s_hand = list(x.keys())\n",
    "    s_result=sum(x.values())\n",
    "    return print(f'Cards are {s_hand} and the value is {s_result}')\n",
    "\n",
    "show_hand(player_hand)"
   ]
  },
  {
   "cell_type": "code",
   "execution_count": 32,
   "metadata": {},
   "outputs": [
    {
     "name": "stdout",
     "output_type": "stream",
     "text": [
      "[1, 2, 2, 43, 4]\n",
      "1\n",
      "2\n",
      "2\n",
      "43\n",
      "4\n"
     ]
    }
   ],
   "source": [
    "l = [1,2,2,43,4]\n",
    "print(list)\n",
    "\n",
    "for item in l:\n",
    "    print(item)"
   ]
  },
  {
   "cell_type": "code",
   "execution_count": 33,
   "metadata": {},
   "outputs": [],
   "source": [
    "def choose_winner (player_points, dealer_points):\n",
    "    if player_points >21:\n",
    "        return print('You lose')\n",
    "    if dealer_points > 21:\n",
    "        return print('Congratulations, you win!!!')\n",
    "    if  player_points> dealer_points:\n",
    "        return print('Congratulations, you win!!!')\n",
    "    elif player_points < dealer_points:\n",
    "        return print('You loose')\n",
    "    else: # player_points = dealer_points\n",
    "        return print('Draw')"
   ]
  },
  {
   "cell_type": "markdown",
   "metadata": {},
   "source": [
    "Funcion Sumar puntos de la mano"
   ]
  },
  {
   "cell_type": "code",
   "execution_count": 34,
   "metadata": {},
   "outputs": [],
   "source": [
    "def sum_points(hand):\n",
    "    cont=0\n",
    "    for item in hand.items():\n",
    "        cont+=item[1]\n",
    "    return cont"
   ]
  },
  {
   "cell_type": "code",
   "execution_count": 25,
   "metadata": {},
   "outputs": [
    {
     "name": "stdout",
     "output_type": "stream",
     "text": [
      "--21-BLACKJACK--\n",
      "\n",
      "BEGIN? Y/N\n",
      "y\n",
      "Repartiendo cartas\n",
      "PLAYER POINTS: 15\n",
      "DEALER POINTS: 7\n",
      "HIT OR STOP H/Sn\n"
     ]
    },
    {
     "ename": "KeyboardInterrupt",
     "evalue": "",
     "output_type": "error",
     "traceback": [
      "\u001b[1;31m---------------------------------------------------------------------------\u001b[0m",
      "\u001b[1;31mKeyboardInterrupt\u001b[0m                         Traceback (most recent call last)",
      "\u001b[1;32m<ipython-input-25-946d1fc35da3>\u001b[0m in \u001b[0;36m<module>\u001b[1;34m\u001b[0m\n\u001b[0;32m     19\u001b[0m         \u001b[1;32mwhile\u001b[0m\u001b[1;33m(\u001b[0m\u001b[1;32mTrue\u001b[0m\u001b[1;33m)\u001b[0m\u001b[1;33m:\u001b[0m \u001b[1;31m#Dealer loop\u001b[0m\u001b[1;33m\u001b[0m\u001b[1;33m\u001b[0m\u001b[0m\n\u001b[0;32m     20\u001b[0m             \u001b[1;31m#code\u001b[0m\u001b[1;33m\u001b[0m\u001b[1;33m\u001b[0m\u001b[1;33m\u001b[0m\u001b[0m\n\u001b[1;32m---> 21\u001b[1;33m             \u001b[1;32mif\u001b[0m \u001b[0mdealer_points\u001b[0m \u001b[1;33m>=\u001b[0m \u001b[1;36m17\u001b[0m\u001b[1;33m:\u001b[0m\u001b[1;33m\u001b[0m\u001b[1;33m\u001b[0m\u001b[0m\n\u001b[0m\u001b[0;32m     22\u001b[0m                 \u001b[1;32mbreak\u001b[0m\u001b[1;33m\u001b[0m\u001b[1;33m\u001b[0m\u001b[0m\n\u001b[0;32m     23\u001b[0m \u001b[1;33m\u001b[0m\u001b[0m\n",
      "\u001b[1;31mKeyboardInterrupt\u001b[0m: "
     ]
    }
   ],
   "source": [
    "player_lose = False\n",
    "\n",
    "while(True): #While player wants to keep playing\n",
    "    print(\"--21-BLACKJACK--\\n\")\n",
    "    print(\"BEGIN? Y/N\")\n",
    "    res = input()\n",
    "    if res.lower() == 'y':\n",
    "        print(\"Repartiendo cartas\")\n",
    "        player_hand = give_card(2)\n",
    "        dealer_hand = give_card()\n",
    "        dealer_points = sum_points(dealer_hand)\n",
    "        player_points = sum_points(player_hand)\n",
    "        while(True): #HIT LOOP\n",
    "            #Imprimir manos\n",
    "            print(f\"PLAYER POINTS: {player_points}\")\n",
    "            print(f\"DEALER POINTS: {dealer_points}\")\n",
    "            if player_points > 21:\n",
    "                player_lose = True\n",
    "                print('YOU LOSE')\n",
    "                break\n",
    "            elif player_points == 21\n",
    "                break\n",
    "            if input(\"HIT OR STOP H/S\").lower() == 'h':\n",
    "                player_hand.update(give_card())\n",
    "            else:\n",
    "                break\n",
    "                \n",
    "        if player_lose == True :\n",
    "            break\n",
    "            \n",
    "        while(True): #Dealer loop\n",
    "            #Begin dealer turn\n",
    "            #Dealer takes card\n",
    "            #show hands\n",
    "            if dealer_points >= 17:\n",
    "                break\n",
    "                \n",
    "    if player_lose == True :\n",
    "        break  \n",
    "        \n",
    "    choose_winner(player_points, dealer_points)  \n",
    "    if input(\"Wanna play again? Y/N\").lower() == 'n':\n",
    "        print(\"END\")\n",
    "        break"
   ]
  }
 ],
 "metadata": {
  "kernelspec": {
   "display_name": "Python 3.7 (tensorflow)",
   "language": "python",
   "name": "tensorflow"
  },
  "language_info": {
   "codemirror_mode": {
    "name": "ipython",
    "version": 3
   },
   "file_extension": ".py",
   "mimetype": "text/x-python",
   "name": "python",
   "nbconvert_exporter": "python",
   "pygments_lexer": "ipython3",
   "version": "3.7.7"
  }
 },
 "nbformat": 4,
 "nbformat_minor": 4
}

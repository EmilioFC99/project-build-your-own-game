{
 "cells": [
  {
   "cell_type": "markdown",
   "metadata": {},
   "source": [
    "DECK"
   ]
  },
  {
   "cell_type": "code",
   "execution_count": 1,
   "metadata": {},
   "outputs": [],
   "source": [
    "import random"
   ]
  },
  {
   "cell_type": "code",
   "execution_count": 2,
   "metadata": {},
   "outputs": [],
   "source": [
    "spade = \"♠\"\n",
    "heart = \"♥\"\n",
    "diamond = \"♦\"\n",
    "club = \"♣\"\n",
    "\n",
    "spade= { \"A♠\":11, \"2♠\":2, \"3♠\":3, \"4♠\":4, \"5♠\":5, \"6♠\":6, \"7♠\":7, \"8♠\":8, \"9♠\":9, \"10♠\":10, \"J♠\":10, \"Q♠\":10, \"K♠\":10}\n",
    "heart= { \"A♥\":11, \"2♥\":2, \"3♥\":3, \"4♥\":4, \"5♥\":5, \"6♥\":6, \"7♥\":7, \"8♥\":8, \"9♥\":9, \"10♥\":10, \"J♥\":10, \"Q♥\":10, \"K♥\":10}\n",
    "diamond= {\"A♦\":11, \"2♦\":2, \"3♦\":3, \"4♦\":4, \"5♦\":5, \"6♦\":6, \"7♦\":7, \"8♦\":8, \"9♦\":9, \"10♦\":10, \"J♦\":10, \"Q♦\":10, \"K♦\":10}\n",
    "club= { \"A♣\":11, \"2♣\":2, \"3♣\":3, \"4♣\":4, \"5♣\":5, \"6♣\":6, \"7♣\":7, \"8♣\":8, \"9♣\":9, \"10♣\":10, \"J♣\":10, \"Q♣\":10, \"K♣\":10}"
   ]
  },
  {
   "cell_type": "code",
   "execution_count": 3,
   "metadata": {},
   "outputs": [],
   "source": [
    "player_hand = dict()\n",
    "dealer_hand = dict()"
   ]
  },
  {
   "cell_type": "markdown",
   "metadata": {},
   "source": [
    "REPARTIR CARTAS"
   ]
  },
  {
   "cell_type": "code",
   "execution_count": 4,
   "metadata": {},
   "outputs": [],
   "source": [
    "deck = {k: v for d in (spade, heart, diamond, club) for k, v in d.items()}"
   ]
  },
  {
   "cell_type": "code",
   "execution_count": 5,
   "metadata": {},
   "outputs": [],
   "source": [
    "def give_card(n=1):\n",
    "    hand = dict() \n",
    "    items = random.sample(deck.items(),k = n) #agarramos n cartas del deck\n",
    "    \n",
    "    for item in items:\n",
    "        deck.pop(item[0]) #eliminamos el item del deck\n",
    "        hand[item[0]] = item[1] #y lo agregamos a la mano\n",
    "        \n",
    "    return hand"
   ]
  },
  {
   "cell_type": "code",
   "execution_count": 6,
   "metadata": {},
   "outputs": [
    {
     "name": "stdout",
     "output_type": "stream",
     "text": [
      "K♦ Q♠ with 20 points.\n"
     ]
    }
   ],
   "source": [
    "player_hand = give_card(2)\n",
    "\n",
    "def show_hand(x):\n",
    "    s_hand=list(x.keys())\n",
    "    s_result=sum(x.values())\n",
    "    \n",
    "    return print(\" \".join(s_hand), 'with', s_result, \"points.\")\n",
    "\n",
    "show_hand(player_hand)"
   ]
  },
  {
   "cell_type": "code",
   "execution_count": 7,
   "metadata": {},
   "outputs": [],
   "source": [
    "def choose_winner (player_points, dealer_points):\n",
    "    if  player_points > dealer_points:\n",
    "        return print('Congratulations, you win!!!')\n",
    "    elif player_points < dealer_points:\n",
    "        return print('YOU LOSE')\n",
    "    else: # player_points = dealer_points\n",
    "        return print('DRAW')"
   ]
  },
  {
   "cell_type": "markdown",
   "metadata": {},
   "source": [
    "Funcion Sumar puntos de la mano"
   ]
  },
  {
   "cell_type": "code",
   "execution_count": 8,
   "metadata": {},
   "outputs": [],
   "source": [
    "def sum_points(card):\n",
    "    return sum(card.values())"
   ]
  },
  {
   "cell_type": "code",
   "execution_count": 10,
   "metadata": {},
   "outputs": [
    {
     "name": "stdout",
     "output_type": "stream",
     "text": [
      "--21-BLACKJACK--\n",
      "\n",
      "SHUFFLING AND DEALING CARDS...\n",
      "----STARTING HANDS----\n",
      "Dealer hand:\n",
      "5♠ with 5 points.\n",
      "Your hand:\n",
      "6♥ A♣ with 17 points.\n",
      "----PLAYER TURN----\n",
      "HIT OR STOP H/S: h\n",
      "Your hand:\n",
      "6♥ A♣ A♠ with 28 points.\n",
      "YOU LOSE\n",
      "Want to play again? Y/N: \n",
      "y\n",
      "SHUFFLING AND DEALING CARDS...\n",
      "----STARTING HANDS----\n",
      "Dealer hand:\n",
      "4♥ with 4 points.\n",
      "Your hand:\n",
      "4♦ K♥ with 14 points.\n",
      "----PLAYER TURN----\n",
      "HIT OR STOP H/S: h\n",
      "Your hand:\n",
      "4♦ K♥ J♥ with 24 points.\n",
      "YOU LOSE\n",
      "Want to play again? Y/N: \n",
      "y\n",
      "SHUFFLING AND DEALING CARDS...\n",
      "----STARTING HANDS----\n",
      "Dealer hand:\n",
      "10♦ with 10 points.\n",
      "Your hand:\n",
      "J♠ 10♥ with 20 points.\n",
      "----PLAYER TURN----\n",
      "HIT OR STOP H/S: s\n",
      "----DEALER TURN----\n",
      "Dealer hand:\n",
      "10♦ J♣ with 20 points.\n",
      "MOMENT OF TRUTH...\n",
      "using function\n",
      "Draw\n",
      "Want to play again? Y/N: \n",
      "y\n",
      "SHUFFLING AND DEALING CARDS...\n",
      "----STARTING HANDS----\n",
      "Dealer hand:\n",
      "8♦ with 8 points.\n",
      "Your hand:\n",
      "8♠ 4♦ with 12 points.\n",
      "----PLAYER TURN----\n",
      "HIT OR STOP H/S: h\n",
      "Your hand:\n",
      "8♠ 4♦ 8♥ with 20 points.\n",
      "HIT OR STOP H/S: s\n",
      "----DEALER TURN----\n",
      "Dealer hand:\n",
      "8♦ 3♥ with 11 points.\n",
      "Dealer hand:\n",
      "8♦ 3♥ 10♠ with 21 points.\n",
      "MOMENT OF TRUTH...\n",
      "using function\n",
      "You lose\n",
      "Want to play again? Y/N: \n",
      "n\n"
     ]
    }
   ],
   "source": [
    "print(\"--21-BLACKJACK--\\n\")\n",
    "while(True): #Game loop (while players wants to keep playing)\n",
    "    #begin\n",
    "    player_lose = False\n",
    "    player_wins = False\n",
    "    deck = {k: v for d in (spade, heart, diamond, club) for k, v in d.items()} #se crea el deck\n",
    "    print(\"SHUFFLING AND DEALING CARDS...\")\n",
    "    player_hand = give_card(2)#se reparten dos cartas al jugador\n",
    "    dealer_hand = give_card()#se reparte una carta al dealer\n",
    "    dealer_points = sum_points(dealer_hand)# se inician los puntos de cada quien\n",
    "    player_points = sum_points(player_hand)# // // //\n",
    "    print(\"----STARTING HANDS----\")\n",
    "    print(\"Dealer hand:\")\n",
    "    show_hand(dealer_hand)\n",
    "    print(\"Your hand:\")\n",
    "    show_hand(player_hand)\n",
    "    print(\"----PLAYER TURN----\")\n",
    "    while(player_points < 21): #HIT LOOP      \n",
    "        if input(\"HIT OR STOP H/S: \").lower() == 'h':\n",
    "            card_to_add = give_card()\n",
    "            player_hand.update(card_to_add) #se actualiza la mano\n",
    "            player_points += sum_points(card_to_add) #se actualizan los puntos\n",
    "            print(\"Your hand:\")\n",
    "            show_hand(player_hand)\n",
    "            if player_points > 21:\n",
    "                player_lose = True\n",
    "                break\n",
    "        else:\n",
    "            break\n",
    "    #end HIT LOOP     \n",
    "    if not player_lose:\n",
    "        print('----DEALER TURN----')\n",
    "        while(dealer_points <= 17): #STOP LOOP\n",
    "            card_to_add = give_card()\n",
    "            dealer_hand.update(card_to_add)\n",
    "            dealer_points += sum_points(card_to_add)\n",
    "            print(\"Dealer hand:\")\n",
    "            show_hand(dealer_hand)\n",
    "            if dealer_points > 21:\n",
    "                player_wins = True\n",
    "                break\n",
    "        #end STOP LOOP\n",
    "    #verificar quien gano\n",
    "\n",
    "    if player_wins == True:\n",
    "        print(\"YOU WIN!\")\n",
    "    elif player_lose == True:\n",
    "        print(\"YOU LOSE\")\n",
    "    else:\n",
    "        print(\"MOMENT OF TRUTH...\")\n",
    "        choose_winner(player_points, dealer_points)   \n",
    "            \n",
    "    res = input(\"Want to play again? Y/N: \\n\").lower()\n",
    "    if res != 'y':\n",
    "        break"
   ]
  },
  {
   "cell_type": "code",
   "execution_count": null,
   "metadata": {},
   "outputs": [],
   "source": []
  }
 ],
 "metadata": {
  "kernelspec": {
   "display_name": "Python 3.7 (tensorflow)",
   "language": "python",
   "name": "tensorflow"
  },
  "language_info": {
   "codemirror_mode": {
    "name": "ipython",
    "version": 3
   },
   "file_extension": ".py",
   "mimetype": "text/x-python",
   "name": "python",
   "nbconvert_exporter": "python",
   "pygments_lexer": "ipython3",
   "version": "3.7.7"
  }
 },
 "nbformat": 4,
 "nbformat_minor": 4
}

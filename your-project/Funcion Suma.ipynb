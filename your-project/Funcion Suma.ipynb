{
 "cells": [
  {
   "cell_type": "code",
   "execution_count": 13,
   "metadata": {},
   "outputs": [],
   "source": [
    "import random"
   ]
  },
  {
   "cell_type": "markdown",
   "metadata": {},
   "source": [
    "DECK"
   ]
  },
  {
   "cell_type": "code",
   "execution_count": 14,
   "metadata": {},
   "outputs": [],
   "source": [
    "spade = \"♠\"\n",
    "heart = \"♥\"\n",
    "diamond = \"♦\"\n",
    "club = \"♣\"\n",
    "\n",
    "spade= { \"A♠\":11, \"2♠\":2, \"3♠\":3, \"4♠\":4, \"5♠\":5, \"6♠\":6, \"7♠\":7, \"8♠\":8, \"9♠\":9, \"10♠\":10, \"J♠\":10, \"Q♠\":10, \"K♠\":10}\n",
    "heart= { \"A♥\":11, \"2♥\":2, \"3♥\":3, \"4♥\":4, \"5♥\":5, \"6♥\":6, \"7♥\":7, \"8♥\":8, \"9♥\":9, \"10♥\":10, \"J♥\":10, \"Q♥\":10, \"K♥\":10}\n",
    "diamond= {\"A♦\":11, \"2♦\":2, \"3♦\":3, \"4♦\":4, \"5♦\":5, \"6♦\":6, \"7♦\":7, \"8♦\":8, \"9♦\":9, \"10♦\":10, \"J♦\":10, \"Q♦\":10, \"K♦\":10}\n",
    "club= { \"A♣\":11, \"2♣\":2, \"3♣\":3, \"4♣\":4, \"5♣\":5, \"6♣\":6, \"7♣\":7, \"8♣\":8, \"9♣\":9, \"10♣\":10, \"J♣\":10, \"Q♣\":10, \"K♣\":10}\n",
    "\n",
    "deck = {}\n",
    "deck = {k: v for d in (spade, heart, diamond, club) for k, v in d.items()}"
   ]
  },
  {
   "cell_type": "markdown",
   "metadata": {},
   "source": [
    "give card"
   ]
  },
  {
   "cell_type": "code",
   "execution_count": 15,
   "metadata": {},
   "outputs": [],
   "source": [
    "def give_card(n=1):\n",
    "    hand = dict() \n",
    "    items = random.sample(deck.items(),k = n) #agarramos n cartas del deck\n",
    "    \n",
    "    for item in items:\n",
    "        deck.pop(item[0]) #eliminamos el item del deck\n",
    "        hand[item[0]] = item[1] #y lo agregamos a la mano\n",
    "        \n",
    "    return hand"
   ]
  },
  {
   "cell_type": "markdown",
   "metadata": {},
   "source": [
    "hands"
   ]
  },
  {
   "cell_type": "code",
   "execution_count": 23,
   "metadata": {},
   "outputs": [],
   "source": [
    "player_hand = give_card(2)\n",
    "dealer_hand = give_card(3)"
   ]
  },
  {
   "cell_type": "code",
   "execution_count": 24,
   "metadata": {},
   "outputs": [
    {
     "name": "stdout",
     "output_type": "stream",
     "text": [
      "{'A♥': 11, '5♠': 5} <class 'dict'>\n"
     ]
    }
   ],
   "source": [
    "print(player_hand,type(player_hand))"
   ]
  },
  {
   "cell_type": "code",
   "execution_count": 25,
   "metadata": {},
   "outputs": [
    {
     "name": "stdout",
     "output_type": "stream",
     "text": [
      "{'K♠': 10, '7♥': 7, '4♦': 4} <class 'dict'>\n"
     ]
    }
   ],
   "source": [
    "print(dealer_hand,type(dealer_hand))"
   ]
  },
  {
   "cell_type": "markdown",
   "metadata": {},
   "source": [
    "IMPRIMIR MANOS"
   ]
  },
  {
   "cell_type": "code",
   "execution_count": 29,
   "metadata": {},
   "outputs": [],
   "source": [
    "def show_hand(x):\n",
    "    s_hand =[]\n",
    "    s_hand.append(x.keys())\n",
    "    s_result=sum(x.values())\n",
    "    \n",
    "    return print('Cards are', s_hand, 'and the value is', s_result)"
   ]
  },
  {
   "cell_type": "code",
   "execution_count": 30,
   "metadata": {},
   "outputs": [
    {
     "name": "stdout",
     "output_type": "stream",
     "text": [
      "Cards are [dict_keys(['A♥', '5♠'])] and the value is 16\n"
     ]
    }
   ],
   "source": [
    "show_hand(player_hand)"
   ]
  },
  {
   "cell_type": "markdown",
   "metadata": {},
   "source": [
    "## Suma de puntos"
   ]
  },
  {
   "cell_type": "code",
   "execution_count": 26,
   "metadata": {},
   "outputs": [],
   "source": [
    "def sum_points(hand):\n",
    "    cont=0\n",
    "    for item in hand.items():\n",
    "        cont+=item[1]\n",
    "    return cont"
   ]
  },
  {
   "cell_type": "markdown",
   "metadata": {},
   "source": [
    "Verificar que si funciona la suma"
   ]
  },
  {
   "cell_type": "code",
   "execution_count": 27,
   "metadata": {},
   "outputs": [
    {
     "name": "stdout",
     "output_type": "stream",
     "text": [
      "Player points 16\n",
      "Dealer points 21\n"
     ]
    }
   ],
   "source": [
    "player_points = sum_points(player_hand)\n",
    "dealer_points = sum_points(dealer_hand)\n",
    "print(\"Player points\",player_points)\n",
    "print(\"Dealer points\",dealer_points)"
   ]
  },
  {
   "cell_type": "markdown",
   "metadata": {},
   "source": [
    "yep, funciona"
   ]
  },
  {
   "cell_type": "markdown",
   "metadata": {},
   "source": [
    "ELEGIR GANDOR"
   ]
  },
  {
   "cell_type": "code",
   "execution_count": 31,
   "metadata": {},
   "outputs": [],
   "source": [
    "def choose_winner (player_points, dealer_points):\n",
    "    a=[]\n",
    "    if player_points >21:\n",
    "        a.append('You loose')\n",
    "    if dealer_points > 21:\n",
    "        a.append('Congratulations, you win!!!')\n",
    "    if  player_points> dealer_points:\n",
    "        a.append('Congratulations, you win!!!')\n",
    "    elif player_points < dealer_points:\n",
    "        a.append('You loose')\n",
    "    else: # player_points = dealer_points\n",
    "        a.append('Drawn')\n",
    "    \n",
    "    \n",
    "    return print(a)"
   ]
  },
  {
   "cell_type": "code",
   "execution_count": 32,
   "metadata": {},
   "outputs": [
    {
     "name": "stdout",
     "output_type": "stream",
     "text": [
      "['You loose']\n"
     ]
    }
   ],
   "source": [
    "choose_winner(player_points, dealer_points)"
   ]
  },
  {
   "cell_type": "code",
   "execution_count": null,
   "metadata": {},
   "outputs": [],
   "source": []
  }
 ],
 "metadata": {
  "kernelspec": {
   "display_name": "Python 3",
   "language": "python",
   "name": "python3"
  },
  "language_info": {
   "codemirror_mode": {
    "name": "ipython",
    "version": 3
   },
   "file_extension": ".py",
   "mimetype": "text/x-python",
   "name": "python",
   "nbconvert_exporter": "python",
   "pygments_lexer": "ipython3",
   "version": "3.8.3"
  }
 },
 "nbformat": 4,
 "nbformat_minor": 4
}

{
 "cells": [
  {
   "cell_type": "code",
   "execution_count": 2,
   "metadata": {},
   "outputs": [],
   "source": [
    "dealer_hand = {'A': 11}\n",
    "player_hand = {'10':10, '8':8}"
   ]
  },
  {
   "cell_type": "code",
   "execution_count": 30,
   "metadata": {},
   "outputs": [],
   "source": [
    "\n",
    "def show_hand(x):\n",
    "    s_hand =[]\n",
    "    s_hand.append(x.keys())\n",
    "    s_result=sum(x.values())\n",
    "    \n",
    "    return print('Cards are', s_hand, 'and the value is', s_result)\n"
   ]
  },
  {
   "cell_type": "code",
   "execution_count": 31,
   "metadata": {},
   "outputs": [
    {
     "name": "stdout",
     "output_type": "stream",
     "text": [
      "Cards are [dict_keys(['10', '8'])] and the value is 18\n"
     ]
    }
   ],
   "source": [
    "show_hand(player_hand)"
   ]
  },
  {
   "cell_type": "code",
   "execution_count": 61,
   "metadata": {},
   "outputs": [],
   "source": [
    "player_points = 20\n",
    "dealer_points = 21"
   ]
  },
  {
   "cell_type": "code",
   "execution_count": 62,
   "metadata": {},
   "outputs": [],
   "source": [
    "def choose_winner (player_points, dealer_points):\n",
    "    a=[]\n",
    "    if player_points >21:\n",
    "        a.append('You loose')\n",
    "    if dealer_points > 21:\n",
    "        a.append('Congratulations, you win!!!')\n",
    "    if  player_points> dealer_points:\n",
    "        a.append('Congratulations, you win!!!')\n",
    "    elif player_points < dealer_points:\n",
    "        a.append('You loose')\n",
    "    else: # player_points = dealer_points\n",
    "        a.append('Drawn')\n",
    "    \n",
    "    \n",
    "    return print(a)\n",
    "    "
   ]
  },
  {
   "cell_type": "code",
   "execution_count": 63,
   "metadata": {},
   "outputs": [
    {
     "name": "stdout",
     "output_type": "stream",
     "text": [
      "['You loose']\n"
     ]
    }
   ],
   "source": [
    "choose_winner(player_points, dealer_points)"
   ]
  },
  {
   "cell_type": "code",
   "execution_count": null,
   "metadata": {},
   "outputs": [],
   "source": []
  }
 ],
 "metadata": {
  "kernelspec": {
   "display_name": "Python 3",
   "language": "python",
   "name": "python3"
  },
  "language_info": {
   "codemirror_mode": {
    "name": "ipython",
    "version": 3
   },
   "file_extension": ".py",
   "mimetype": "text/x-python",
   "name": "python",
   "nbconvert_exporter": "python",
   "pygments_lexer": "ipython3",
   "version": "3.8.3"
  }
 },
 "nbformat": 4,
 "nbformat_minor": 4
}

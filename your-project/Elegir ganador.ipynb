{
 "cells": [
  {
   "cell_type": "code",
   "execution_count": 1,
   "metadata": {},
   "outputs": [],
   "source": [
    "dealer_hand = {'A': 11}\n",
    "player_hand = {'10':10, '8':8}"
   ]
  },
  {
   "cell_type": "code",
   "execution_count": 13,
   "metadata": {},
   "outputs": [],
   "source": [
    "\n",
    "def show_hand(x):\n",
    "    s_hand =[]\n",
    "    s_hand=list(x.keys())\n",
    "    s_result=sum(x.values())\n",
    "    \n",
    "    return print('Cards are', ', '.join(s_hand), 'and the value is', s_result)\n"
   ]
  },
  {
   "cell_type": "code",
   "execution_count": 15,
   "metadata": {},
   "outputs": [
    {
     "name": "stdout",
     "output_type": "stream",
     "text": [
      "Cards are 10, 8 and the value is 18\n"
     ]
    }
   ],
   "source": [
    "show_hand(player_hand)"
   ]
  },
  {
   "cell_type": "code",
   "execution_count": null,
   "metadata": {},
   "outputs": [],
   "source": [
    "#Cards are'A' and the value is 11"
   ]
  },
  {
   "cell_type": "code",
   "execution_count": 7,
   "metadata": {},
   "outputs": [],
   "source": [
    "player_points = 21\n",
    "dealer_points = 20"
   ]
  },
  {
   "cell_type": "code",
   "execution_count": 10,
   "metadata": {},
   "outputs": [],
   "source": [
    "def choose_winner (player_points, dealer_points):\n",
    "    \n",
    "    if player_points >21:\n",
    "        return print('You loose')\n",
    "    if dealer_points > 21:\n",
    "        return print('Congratulations, you win!!!')\n",
    "    if  player_points> dealer_points:\n",
    "        return print('Congratulations, you win!!!')\n",
    "    elif player_points < dealer_points:\n",
    "        return print('You loose')\n",
    "    else: # player_points = dealer_points\n",
    "        return print('Drawn')\n",
    "    \n",
    "    "
   ]
  },
  {
   "cell_type": "code",
   "execution_count": 11,
   "metadata": {},
   "outputs": [
    {
     "name": "stdout",
     "output_type": "stream",
     "text": [
      "Congratulations, you win!!!\n"
     ]
    }
   ],
   "source": [
    "choose_winner(player_points, dealer_points)"
   ]
  },
  {
   "cell_type": "code",
   "execution_count": null,
   "metadata": {},
   "outputs": [],
   "source": [
    "def sum_points(hand):\n",
    "    cont=0\n",
    "    for item in hand.items():\n",
    "        cont+=item[1]\n",
    "    return cont"
   ]
  }
 ],
 "metadata": {
  "kernelspec": {
   "display_name": "Python 3",
   "language": "python",
   "name": "python3"
  },
  "language_info": {
   "codemirror_mode": {
    "name": "ipython",
    "version": 3
   },
   "file_extension": ".py",
   "mimetype": "text/x-python",
   "name": "python",
   "nbconvert_exporter": "python",
   "pygments_lexer": "ipython3",
   "version": "3.8.3"
  }
 },
 "nbformat": 4,
 "nbformat_minor": 4
}

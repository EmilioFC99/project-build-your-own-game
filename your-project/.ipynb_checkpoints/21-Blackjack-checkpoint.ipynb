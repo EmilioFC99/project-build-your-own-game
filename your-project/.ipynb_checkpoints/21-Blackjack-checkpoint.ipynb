{
 "cells": [
  {
   "cell_type": "markdown",
   "metadata": {},
   "source": [
    "DECK"
   ]
  },
  {
   "cell_type": "code",
   "execution_count": 1,
   "metadata": {},
   "outputs": [],
   "source": [
    "import random"
   ]
  },
  {
   "cell_type": "code",
   "execution_count": 2,
   "metadata": {},
   "outputs": [],
   "source": [
    "spade = \"♠\"\n",
    "heart = \"♥\"\n",
    "diamond = \"♦\"\n",
    "club = \"♣\"\n",
    "\n",
    "spade= { \"A♠\":11, \"2♠\":2, \"3♠\":3, \"4♠\":4, \"5♠\":5, \"6♠\":6, \"7♠\":7, \"8♠\":8, \"9♠\":9, \"10♠\":10, \"J♠\":10, \"Q♠\":10, \"K♠\":10}\n",
    "heart= { \"A♥\":11, \"2♥\":2, \"3♥\":3, \"4♥\":4, \"5♥\":5, \"6♥\":6, \"7♥\":7, \"8♥\":8, \"9♥\":9, \"10♥\":10, \"J♥\":10, \"Q♥\":10, \"K♥\":10}\n",
    "diamond= {\"A♦\":11, \"2♦\":2, \"3♦\":3, \"4♦\":4, \"5♦\":5, \"6♦\":6, \"7♦\":7, \"8♦\":8, \"9♦\":9, \"10♦\":10, \"J♦\":10, \"Q♦\":10, \"K♦\":10}\n",
    "club= { \"A♣\":11, \"2♣\":2, \"3♣\":3, \"4♣\":4, \"5♣\":5, \"6♣\":6, \"7♣\":7, \"8♣\":8, \"9♣\":9, \"10♣\":10, \"J♣\":10, \"Q♣\":10, \"K♣\":10}"
   ]
  },
  {
   "cell_type": "code",
   "execution_count": 3,
   "metadata": {},
   "outputs": [],
   "source": [
    "player_hand = dict()\n",
    "dealer_hand = dict()"
   ]
  },
  {
   "cell_type": "code",
   "execution_count": null,
   "metadata": {},
   "outputs": [],
   "source": []
  },
  {
   "cell_type": "markdown",
   "metadata": {},
   "source": [
    "REPARTIR CARTAS"
   ]
  },
  {
   "cell_type": "code",
   "execution_count": 4,
   "metadata": {},
   "outputs": [],
   "source": [
    "deck = {}\n",
    "deck = {k: v for d in (spade, heart, diamond, club) for k, v in d.items()}"
   ]
  },
  {
   "cell_type": "code",
   "execution_count": 5,
   "metadata": {},
   "outputs": [],
   "source": [
    "def give_card(n=1):\n",
    "    hand = dict() \n",
    "    items = random.sample(deck.items(),k = n) #agarramos n cartas del deck\n",
    "    \n",
    "    for item in items:\n",
    "        deck.pop(item[0]) #eliminamos el item del deck\n",
    "        hand[item[0]] = item[1] #y lo agregamos a la mano\n",
    "        \n",
    "    return hand"
   ]
  },
  {
   "cell_type": "code",
   "execution_count": 7,
   "metadata": {},
   "outputs": [
    {
     "name": "stdout",
     "output_type": "stream",
     "text": [
      "Cards are [dict_keys([])] and the value is 0\n"
     ]
    }
   ],
   "source": [
    "def show_hand(x):\n",
    "    s_hand =[]\n",
    "    s_hand.append(x.keys())\n",
    "    s_result=sum(x.values())\n",
    "    return print('Cards are', s_hand, 'and the value is', s_result)\n",
    "\n",
    "show_hand(player_hand)"
   ]
  },
  {
   "cell_type": "code",
   "execution_count": 20,
   "metadata": {},
   "outputs": [],
   "source": [
    "def choose_winner (player_points, dealer_points):\n",
    "    a=[]\n",
    "    if player_points >21:\n",
    "        a.append('You loose')\n",
    "    if dealer_points > 21:\n",
    "        a.append('Congratulations, you win!!!')\n",
    "    if  player_points> dealer_points:\n",
    "        a.append('Congratulations, you win!!!')\n",
    "    elif player_points < dealer_points:\n",
    "        a.append('You loose')\n",
    "    else: # player_points = dealer_points\n",
    "        a.append('Drawn')\n",
    "    return print(a)"
   ]
  },
  {
   "cell_type": "code",
   "execution_count": 21,
   "metadata": {},
   "outputs": [
    {
     "ename": "SyntaxError",
     "evalue": "invalid syntax (<ipython-input-21-49239bc8fc6c>, line 1)",
     "output_type": "error",
     "traceback": [
      "\u001b[0;36m  File \u001b[0;32m\"<ipython-input-21-49239bc8fc6c>\"\u001b[0;36m, line \u001b[0;32m1\u001b[0m\n\u001b[0;31m    Funcion Sumar puntos de la mano\u001b[0m\n\u001b[0m            ^\u001b[0m\n\u001b[0;31mSyntaxError\u001b[0m\u001b[0;31m:\u001b[0m invalid syntax\n"
     ]
    }
   ],
   "source": [
    "\n",
    "\n",
    "Funcion Sumar puntos de la mano\n",
    "\n",
    "def sum_points(hand):\n",
    "    cont=0\n",
    "    for item in hand.items():\n",
    "        cont+=item[1]\n",
    "    return cont"
   ]
  },
  {
   "cell_type": "code",
   "execution_count": null,
   "metadata": {},
   "outputs": [
    {
     "name": "stdout",
     "output_type": "stream",
     "text": [
      "--21-BLACKJACK--\n",
      "\n",
      "BEGIN? Y/N\n"
     ]
    }
   ],
   "source": [
    "while(True): #While player wants to keep playing\n",
    "    print(\"--21-BLACKJACK--\\n\")\n",
    "    print(\"BEGIN? Y/N\")\n",
    "    res = input()\n",
    "    if res.lower() == 'y':\n",
    "        print(\"Repartiendo cartas\")\n",
    "        player_hand = give_card(2)\n",
    "        dealer_hand = give_card(1)\n",
    "        dealer_points = sum_points(dealer_hand)\n",
    "        player_points = sum_points(player_hand)\n",
    "        while(True): #HIT LOOP\n",
    "            show_hand(dealer_hand)\n",
    "            show_hand(player_hand)  \n",
    "\n",
    "            print(f\"PLAYER POINTS: {player_points}\")\n",
    "            print(f\"DEALER POINTS: {dealer_points}\")\n",
    "            if input(\"HIT OR STOP H/S\").lower() == 'h':\n",
    "                player_hand.update(give_card())\n",
    "            else:\n",
    "                break\n",
    "        while(True): #Dealer loop\n",
    "            dealer_hand = give_card(1)\n",
    "            dealer_points = sum_points(dealer_hand)\n",
    "            show_hand(dealer_hand)\n",
    "            if dealer_points >= 17:\n",
    "                break\n",
    "                \n",
    "            \n",
    "                \n",
    "            \n",
    "    "
   ]
  },
  {
   "cell_type": "code",
   "execution_count": null,
   "metadata": {},
   "outputs": [],
   "source": []
  }
 ],
 "metadata": {
  "kernelspec": {
   "display_name": "Python 3",
   "language": "python",
   "name": "python3"
  },
  "language_info": {
   "codemirror_mode": {
    "name": "ipython",
    "version": 3
   },
   "file_extension": ".py",
   "mimetype": "text/x-python",
   "name": "python",
   "nbconvert_exporter": "python",
   "pygments_lexer": "ipython3",
   "version": "3.8.3"
  }
 },
 "nbformat": 4,
 "nbformat_minor": 4
}

{
 "cells": [
  {
   "cell_type": "markdown",
   "metadata": {},
   "source": [
    "DECK"
   ]
  },
  {
   "cell_type": "code",
   "execution_count": 1,
   "metadata": {},
   "outputs": [],
   "source": [
    "import random"
   ]
  },
  {
   "cell_type": "code",
   "execution_count": 2,
   "metadata": {},
   "outputs": [],
   "source": [
    "spade = \"♠\"\n",
    "heart = \"♥\"\n",
    "diamond = \"♦\"\n",
    "club = \"♣\"\n",
    "\n",
    "spade= { \"A♠\":11, \"2♠\":2, \"3♠\":3, \"4♠\":4, \"5♠\":5, \"6♠\":6, \"7♠\":7, \"8♠\":8, \"9♠\":9, \"10♠\":10, \"J♠\":10, \"Q♠\":10, \"K♠\":10}\n",
    "heart= { \"A♥\":11, \"2♥\":2, \"3♥\":3, \"4♥\":4, \"5♥\":5, \"6♥\":6, \"7♥\":7, \"8♥\":8, \"9♥\":9, \"10♥\":10, \"J♥\":10, \"Q♥\":10, \"K♥\":10}\n",
    "diamond= {\"A♦\":11, \"2♦\":2, \"3♦\":3, \"4♦\":4, \"5♦\":5, \"6♦\":6, \"7♦\":7, \"8♦\":8, \"9♦\":9, \"10♦\":10, \"J♦\":10, \"Q♦\":10, \"K♦\":10}\n",
    "club= { \"A♣\":11, \"2♣\":2, \"3♣\":3, \"4♣\":4, \"5♣\":5, \"6♣\":6, \"7♣\":7, \"8♣\":8, \"9♣\":9, \"10♣\":10, \"J♣\":10, \"Q♣\":10, \"K♣\":10}"
   ]
  },
  {
   "cell_type": "code",
   "execution_count": 3,
   "metadata": {},
   "outputs": [],
   "source": [
    "player_hand = dict()\n",
    "dealer_hand = dict()"
   ]
  },
  {
   "cell_type": "markdown",
   "metadata": {},
   "source": [
    "REPARTIR CARTAS"
   ]
  },
  {
   "cell_type": "code",
   "execution_count": 4,
   "metadata": {},
   "outputs": [],
   "source": [
    "deck = {}\n",
    "deck = {k: v for d in (spade, heart, diamond, club) for k, v in d.items()}"
   ]
  },
  {
   "cell_type": "code",
   "execution_count": 5,
   "metadata": {},
   "outputs": [],
   "source": [
    "def give_card(n=1):\n",
    "    hand = dict() \n",
    "    items = random.sample(deck.items(),k = n) #agarramos n cartas del deck\n",
    "    \n",
    "    for item in items:\n",
    "        deck.pop(item[0]) #eliminamos el item del deck\n",
    "        hand[item[0]] = item[1] #y lo agregamos a la mano\n",
    "        \n",
    "    return hand"
   ]
  },
  {
   "cell_type": "code",
   "execution_count": 6,
   "metadata": {},
   "outputs": [
    {
     "name": "stdout",
     "output_type": "stream",
     "text": [
      "Cards are 3♦, 4♠ and the value is 7\n"
     ]
    }
   ],
   "source": [
    "player_hand = give_card(2)\n",
    "\n",
    "def show_hand(x):\n",
    "    s_hand=list(x.keys())\n",
    "    s_result=sum(x.values())\n",
    "    \n",
    "    return print('Cards are', ', '.join(s_hand), 'and the value is', s_result)\n",
    "\n",
    "show_hand(player_hand)"
   ]
  },
  {
   "cell_type": "code",
   "execution_count": 7,
   "metadata": {},
   "outputs": [
    {
     "name": "stdout",
     "output_type": "stream",
     "text": [
      "<class 'list'>\n",
      "1\n",
      "2\n",
      "2\n",
      "43\n",
      "4\n"
     ]
    }
   ],
   "source": [
    "l = [1,2,2,43,4]\n",
    "print(list)\n",
    "\n",
    "for item in l:\n",
    "    print(item)"
   ]
  },
  {
   "cell_type": "code",
   "execution_count": 8,
   "metadata": {},
   "outputs": [],
   "source": [
    "def choose_winner (player_points, dealer_points):\n",
    "    if player_points >21:\n",
    "        return print('You lose')\n",
    "    if dealer_points > 21:\n",
    "        return print('Congratulations, you win!!!')\n",
    "    if  player_points> dealer_points:\n",
    "        return print('Congratulations, you win!!!')\n",
    "    elif player_points < dealer_points:\n",
    "        return print('You loose')\n",
    "    else: # player_points = dealer_points\n",
    "        return print('Draw')"
   ]
  },
  {
   "cell_type": "markdown",
   "metadata": {},
   "source": [
    "Funcion Sumar puntos de la mano"
   ]
  },
  {
   "cell_type": "code",
   "execution_count": 9,
   "metadata": {},
   "outputs": [],
   "source": [
    "def sum_points(hand):\n",
    "    cont=0\n",
    "    for item in hand.items():\n",
    "        cont+=item[1]\n",
    "    return cont"
   ]
  },
  {
   "cell_type": "code",
   "execution_count": null,
   "metadata": {},
   "outputs": [
    {
     "name": "stdout",
     "output_type": "stream",
     "text": [
      "--21-BLACKJACK--\n",
      "\n",
      "BEGIN? Y/N\n",
      "Y\n",
      "Repartiendo cartas\n",
      "Cards are Q♣ and the value is 10\n",
      "Cards are J♣, 4♥ and the value is 14\n",
      "PLAYER POINTS: 14\n",
      "DEALER POINTS: 10\n",
      "HIT OR STOP H/SH\n",
      "Cards are Q♣ and the value is 10\n",
      "Cards are J♣, 4♥, A♠ and the value is 25\n",
      "PLAYER POINTS: 14\n",
      "DEALER POINTS: 10\n"
     ]
    }
   ],
   "source": [
    "player_lose = False\n",
    "\n",
    "while(True): #While player wants to keep playing\n",
    "    print(\"--21-BLACKJACK--\\n\")\n",
    "    print(\"BEGIN? Y/N\")\n",
    "    res = input()\n",
    "    if res.lower() == 'y':\n",
    "        print(\"Repartiendo cartas\")\n",
    "        player_hand = give_card(2)\n",
    "        dealer_hand = give_card(1)\n",
    "        dealer_points = sum_points(dealer_hand)\n",
    "        player_points = sum_points(player_hand)\n",
    "        while(True): #HIT LOOP\n",
    "            show_hand(dealer_hand)\n",
    "            show_hand(player_hand)  \n",
    "\n",
    "            print(f\"PLAYER POINTS: {player_points}\")\n",
    "            print(f\"DEALER POINTS: {dealer_points}\")\n",
    "            if input(\"HIT OR STOP H/S\").lower() == 'h':\n",
    "                player_hand.update(give_card())\n",
    "            else:\n",
    "                break\n",
    "        while(True): #Dealer loop\n",
    "            dealer_hand = give_card(1)\n",
    "            dealer_points = sum_points(dealer_hand)\n",
    "            show_hand(dealer_hand)\n",
    "            if dealer_points >= 17:\n",
    "                break     \n"
   ]
  },
  {
   "cell_type": "code",
   "execution_count": null,
   "metadata": {},
   "outputs": [],
   "source": []
  }
 ],
 "metadata": {
  "kernelspec": {
   "display_name": "Python 3",
   "language": "python",
   "name": "python3"
  },
  "language_info": {
   "codemirror_mode": {
    "name": "ipython",
    "version": 3
   },
   "file_extension": ".py",
   "mimetype": "text/x-python",
   "name": "python",
   "nbconvert_exporter": "python",
   "pygments_lexer": "ipython3",
   "version": "3.8.3"
  }
 },
 "nbformat": 4,
 "nbformat_minor": 4
}

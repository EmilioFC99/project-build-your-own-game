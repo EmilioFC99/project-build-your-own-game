{
 "cells": [
  {
   "cell_type": "code",
   "execution_count": 1,
   "metadata": {},
   "outputs": [],
   "source": [
    "spade = \"♠\"\n",
    "heart = \"♥\"\n",
    "diamond = \"♦\"\n",
    "club = \"♣\"\n",
    "\n",
    "spade= { \"A♠\":11, \"2♠\":2, \"3♠\":3, \"4♠\":4, \"5♠\":5, \"6♠\":6, \"7♠\":7, \"8♠\":8, \"9♠\":9, \"10♠\":10, \"J♠\":10, \"Q♠\":10, \"K♠\":10}\n",
    "heart= { \"A♥\":11, \"2♥\":2, \"3♥\":3, \"4♥\":4, \"5♥\":5, \"6♥\":6, \"7♥\":7, \"8♥\":8, \"9♥\":9, \"10♥\":10, \"J♥\":10, \"Q♥\":10, \"K♥\":10}\n",
    "diamond= {\"A♦\":11, \"2♦\":2, \"3♦\":3, \"4♦\":4, \"5♦\":5, \"6♦\":6, \"7♦\":7, \"8♦\":8, \"9♦\":9, \"10♦\":10, \"J♦\":10, \"Q♦\":10, \"K♦\":10}\n",
    "club= { \"A♣\":11, \"2♣\":2, \"3♣\":3, \"4♣\":4, \"5♣\":5, \"6♣\":6, \"7♣\":7, \"8♣\":8, \"9♣\":9, \"10♣\":10, \"J♣\":10, \"Q♣\":10, \"K♣\":10}\n",
    "\n",
    "deck = {}\n",
    "deck = {k: v for d in (spade, heart, diamond, club) for k, v in d.items()}"
   ]
  },
  {
   "cell_type": "code",
   "execution_count": 2,
   "metadata": {},
   "outputs": [
    {
     "data": {
      "text/plain": [
       "52"
      ]
     },
     "execution_count": 2,
     "metadata": {},
     "output_type": "execute_result"
    }
   ],
   "source": [
    "len(deck)"
   ]
  },
  {
   "cell_type": "code",
   "execution_count": 4,
   "metadata": {},
   "outputs": [
    {
     "data": {
      "text/plain": [
       "{'A♠': 11,\n",
       " '2♠': 2,\n",
       " '3♠': 3,\n",
       " '4♠': 4,\n",
       " '5♠': 5,\n",
       " '6♠': 6,\n",
       " '7♠': 7,\n",
       " '8♠': 8,\n",
       " '9♠': 9,\n",
       " '10♠': 10,\n",
       " 'J♠': 10,\n",
       " 'Q♠': 10,\n",
       " 'K♠': 10,\n",
       " 'A♥': 11,\n",
       " '2♥': 2,\n",
       " '3♥': 3,\n",
       " '4♥': 4,\n",
       " '5♥': 5,\n",
       " '6♥': 6,\n",
       " '7♥': 7,\n",
       " '8♥': 8,\n",
       " '9♥': 9,\n",
       " '10♥': 10,\n",
       " 'J♥': 10,\n",
       " 'Q♥': 10,\n",
       " 'K♥': 10,\n",
       " 'A♦': 11,\n",
       " '2♦': 2,\n",
       " '3♦': 3,\n",
       " '4♦': 4,\n",
       " '5♦': 5,\n",
       " '6♦': 6,\n",
       " '7♦': 7,\n",
       " '8♦': 8,\n",
       " '9♦': 9,\n",
       " '10♦': 10,\n",
       " 'J♦': 10,\n",
       " 'Q♦': 10,\n",
       " 'K♦': 10,\n",
       " 'A♣': 11,\n",
       " '2♣': 2,\n",
       " '3♣': 3,\n",
       " '4♣': 4,\n",
       " '5♣': 5,\n",
       " '6♣': 6,\n",
       " '7♣': 7,\n",
       " '8♣': 8,\n",
       " '9♣': 9,\n",
       " '10♣': 10,\n",
       " 'J♣': 10,\n",
       " 'Q♣': 10,\n",
       " 'K♣': 10}"
      ]
     },
     "execution_count": 4,
     "metadata": {},
     "output_type": "execute_result"
    }
   ],
   "source": [
    "deck"
   ]
  },
  {
   "cell_type": "code",
   "execution_count": null,
   "metadata": {},
   "outputs": [],
   "source": []
  }
 ],
 "metadata": {
  "kernelspec": {
   "display_name": "Python 3",
   "language": "python",
   "name": "python3"
  },
  "language_info": {
   "codemirror_mode": {
    "name": "ipython",
    "version": 3
   },
   "file_extension": ".py",
   "mimetype": "text/x-python",
   "name": "python",
   "nbconvert_exporter": "python",
   "pygments_lexer": "ipython3",
   "version": "3.7.6"
  }
 },
 "nbformat": 4,
 "nbformat_minor": 4
}

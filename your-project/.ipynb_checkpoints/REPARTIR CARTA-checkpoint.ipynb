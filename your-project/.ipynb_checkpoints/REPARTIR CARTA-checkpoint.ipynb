{
 "cells": [
  {
   "cell_type": "code",
   "execution_count": 1,
   "metadata": {},
   "outputs": [],
   "source": [
    "import random"
   ]
  },
  {
   "cell_type": "markdown",
   "metadata": {},
   "source": [
    "deck"
   ]
  },
  {
   "cell_type": "code",
   "execution_count": 2,
   "metadata": {},
   "outputs": [],
   "source": [
    "spade = \"♠\"\n",
    "heart = \"♥\"\n",
    "diamond = \"♦\"\n",
    "club = \"♣\"\n",
    "\n",
    "spade= { \"A♠\":11, \"2♠\":2, \"3♠\":3, \"4♠\":4, \"5♠\":5, \"6♠\":6, \"7♠\":7, \"8♠\":8, \"9♠\":9, \"10♠\":10, \"J♠\":10, \"Q♠\":10, \"K♠\":10}\n",
    "heart= { \"A♥\":11, \"2♥\":2, \"3♥\":3, \"4♥\":4, \"5♥\":5, \"6♥\":6, \"7♥\":7, \"8♥\":8, \"9♥\":9, \"10♥\":10, \"J♥\":10, \"Q♥\":10, \"K♥\":10}\n",
    "diamond= {\"A♦\":11, \"2♦\":2, \"3♦\":3, \"4♦\":4, \"5♦\":5, \"6♦\":6, \"7♦\":7, \"8♦\":8, \"9♦\":9, \"10♦\":10, \"J♦\":10, \"Q♦\":10, \"K♦\":10}\n",
    "club= { \"A♣\":11, \"2♣\":2, \"3♣\":3, \"4♣\":4, \"5♣\":5, \"6♣\":6, \"7♣\":7, \"8♣\":8, \"9♣\":9, \"10♣\":10, \"J♣\":10, \"Q♣\":10, \"K♣\":10}\n",
    "\n",
    "deck = {}\n",
    "deck = {k: v for d in (spade, heart, diamond, club) for k, v in d.items()}"
   ]
  },
  {
   "cell_type": "code",
   "execution_count": 3,
   "metadata": {},
   "outputs": [],
   "source": [
    "player_hand = dict()\n",
    "dealer_hand = dict()"
   ]
  },
  {
   "cell_type": "markdown",
   "metadata": {},
   "source": [
    "Funcion para repartir la carta"
   ]
  },
  {
   "cell_type": "code",
   "execution_count": 4,
   "metadata": {},
   "outputs": [],
   "source": [
    "def give_card(n=1):\n",
    "    hand = dict() \n",
    "    items = random.sample(deck.items(),k = n) #agarramos n cartas del deck\n",
    "    \n",
    "    for item in items:\n",
    "        deck.pop(item[0]) #eliminamos el item del deck\n",
    "        hand[item[0]] = item[1] #y lo agregamos a la mano\n",
    "        \n",
    "    return hand"
   ]
  },
  {
   "cell_type": "code",
   "execution_count": 5,
   "metadata": {},
   "outputs": [
    {
     "data": {
      "text/plain": [
       "{'10♥': 10, 'J♠': 10}"
      ]
     },
     "execution_count": 5,
     "metadata": {},
     "output_type": "execute_result"
    }
   ],
   "source": [
    "player_hand = give_card(2) #agregar dos cartas a una mano vacio\n",
    "player_hand"
   ]
  },
  {
   "cell_type": "code",
   "execution_count": 6,
   "metadata": {},
   "outputs": [
    {
     "data": {
      "text/plain": [
       "{'10♥': 10, 'J♠': 10, 'Q♦': 10}"
      ]
     },
     "execution_count": 6,
     "metadata": {},
     "output_type": "execute_result"
    }
   ],
   "source": [
    "player_hand.update(give_card()) #agregar una carta a la mano con dos cartas\n",
    "player_hand"
   ]
  },
  {
   "cell_type": "markdown",
   "metadata": {},
   "source": [
    "Verificamos que si se hayan eliminado las cartas del deck"
   ]
  },
  {
   "cell_type": "code",
   "execution_count": 13,
   "metadata": {},
   "outputs": [
    {
     "name": "stdout",
     "output_type": "stream",
     "text": [
      "{'10♥': 10, 'J♠': 10, 'Q♦': 10}\n",
      "('10♥', 10)\n",
      "Card not in deck\n",
      "('J♠', 10)\n",
      "Card not in deck\n",
      "('Q♦', 10)\n",
      "Card not in deck\n"
     ]
    }
   ],
   "source": [
    "print(player_hand)\n",
    "for card in player_hand.items():\n",
    "    print(card)\n",
    "    if card in deck:\n",
    "        print(\"Card in deck\")\n",
    "    else:\n",
    "        print(\"Card not in deck\")"
   ]
  },
  {
   "cell_type": "code",
   "execution_count": 14,
   "metadata": {},
   "outputs": [
    {
     "data": {
      "text/plain": [
       "{'A♠': 11,\n",
       " '2♠': 2,\n",
       " '3♠': 3,\n",
       " '4♠': 4,\n",
       " '5♠': 5,\n",
       " '6♠': 6,\n",
       " '7♠': 7,\n",
       " '8♠': 8,\n",
       " '9♠': 9,\n",
       " '10♠': 10,\n",
       " 'Q♠': 10,\n",
       " 'K♠': 10,\n",
       " 'A♥': 11,\n",
       " '2♥': 2,\n",
       " '3♥': 3,\n",
       " '4♥': 4,\n",
       " '5♥': 5,\n",
       " '6♥': 6,\n",
       " '7♥': 7,\n",
       " '8♥': 8,\n",
       " '9♥': 9,\n",
       " 'J♥': 10,\n",
       " 'Q♥': 10,\n",
       " 'K♥': 10,\n",
       " 'A♦': 11,\n",
       " '2♦': 2,\n",
       " '3♦': 3,\n",
       " '4♦': 4,\n",
       " '5♦': 5,\n",
       " '6♦': 6,\n",
       " '7♦': 7,\n",
       " '8♦': 8,\n",
       " '9♦': 9,\n",
       " '10♦': 10,\n",
       " 'J♦': 10,\n",
       " 'K♦': 10,\n",
       " 'A♣': 11,\n",
       " '2♣': 2,\n",
       " '3♣': 3,\n",
       " '4♣': 4,\n",
       " '5♣': 5,\n",
       " '6♣': 6,\n",
       " '7♣': 7,\n",
       " '8♣': 8,\n",
       " '9♣': 9,\n",
       " '10♣': 10,\n",
       " 'J♣': 10,\n",
       " 'Q♣': 10,\n",
       " 'K♣': 10}"
      ]
     },
     "execution_count": 14,
     "metadata": {},
     "output_type": "execute_result"
    }
   ],
   "source": [
    "deck"
   ]
  },
  {
   "cell_type": "code",
   "execution_count": null,
   "metadata": {},
   "outputs": [],
   "source": []
  }
 ],
 "metadata": {
  "kernelspec": {
   "display_name": "Python 3.7 (tensorflow)",
   "language": "python",
   "name": "tensorflow"
  },
  "language_info": {
   "codemirror_mode": {
    "name": "ipython",
    "version": 3
   },
   "file_extension": ".py",
   "mimetype": "text/x-python",
   "name": "python",
   "nbconvert_exporter": "python",
   "pygments_lexer": "ipython3",
   "version": "3.7.7"
  }
 },
 "nbformat": 4,
 "nbformat_minor": 4
}
